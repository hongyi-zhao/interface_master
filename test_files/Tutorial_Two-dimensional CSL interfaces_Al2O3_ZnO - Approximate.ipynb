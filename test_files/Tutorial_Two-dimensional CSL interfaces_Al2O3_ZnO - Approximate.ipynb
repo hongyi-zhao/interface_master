{
 "cells": [
  {
   "cell_type": "markdown",
   "metadata": {},
   "source": [
    "# Al2O3/ZnO"
   ]
  },
  {
   "cell_type": "code",
   "execution_count": 1,
   "metadata": {},
   "outputs": [],
   "source": [
    "from interfacemaster.cellcalc import get_primitive_hkl, get_pri_vec_inplane, get_normal_index, get_normal_from_MI, rot\n",
    "from interfacemaster.interface_generator import core, print_near_axis, convert_vector_index, get_disorientation\n",
    "from numpy import array, dot, round, cross, eye\n",
    "from numpy.linalg import inv, det, norm"
   ]
  },
  {
   "cell_type": "code",
   "execution_count": 2,
   "metadata": {},
   "outputs": [],
   "source": [
    "#https://aip.scitation.org/doi/full/10.1063/1.3489687"
   ]
  },
  {
   "cell_type": "code",
   "execution_count": 3,
   "metadata": {},
   "outputs": [
    {
     "name": "stdout",
     "output_type": "stream",
     "text": [
      "Warning!, this programme will rewrite the POSCAR file in this dir!\n"
     ]
    },
    {
     "name": "stderr",
     "output_type": "stream",
     "text": [
      "/Users/jasonxie/.local/lib/python3.8/site-packages/pymatgen/io/cif.py:1121: UserWarning: Issues encountered while parsing CIF: Some fractional co-ordinates rounded to ideal values to avoid issues with finite precision.\n",
      "  warnings.warn(\"Issues encountered while parsing CIF: %s\" % \"\\n\".join(self.warnings))\n"
     ]
    }
   ],
   "source": [
    "my_interface = core('cif_files/Al2O3_mp-1143_conventional_standard.cif',\\\n",
    "                    'cif_files/ZnO_mp-2133_conventional_standard.cif')"
   ]
  },
  {
   "cell_type": "code",
   "execution_count": 4,
   "metadata": {},
   "outputs": [
    {
     "data": {
      "text/plain": [
       "array([[-0.0673919 ,  0.8832738 , -0.46398893],\n",
       "       [-0.96109127,  0.0673919 ,  0.26788413],\n",
       "       [ 0.26788413,  0.46398893,  0.84436507]])"
      ]
     },
     "execution_count": 4,
     "metadata": {},
     "output_type": "execute_result"
    }
   ],
   "source": [
    "R = get_disorientation(L1 = my_interface.conv_lattice_1, L2 = my_interface.conv_lattice_2, \\\n",
    "                       v1 = [-1,1,1], hkl1 = [1, -1, 2], \\\n",
    "                       v2 = [0,0,1], hkl2 = [1, 1, 0])\n",
    "R"
   ]
  },
  {
   "cell_type": "markdown",
   "metadata": {},
   "source": [
    "## Get the two axis aligned to be collinear, expressed in primitive cell"
   ]
  },
  {
   "cell_type": "markdown",
   "metadata": {},
   "source": [
    "Here, we want the (1,-1,0,2) plane of the Al2O3 coincident whith (1,1,-2,0) plane of ZnO.\n",
    "\n",
    "Firstly, the programme rotate lattice 2 so that the two lattice plane overlap.\n",
    "\n",
    "As the normal of the plane have different indices with the miller indices, we need to compute it."
   ]
  },
  {
   "cell_type": "code",
   "execution_count": 5,
   "metadata": {},
   "outputs": [],
   "source": [
    "hkl_1 = get_primitive_hkl([1, -1, 2], my_interface.conv_lattice_1, my_interface.lattice_1)\n",
    "hkl_2 = get_primitive_hkl([1, 1, 0], my_interface.conv_lattice_2, my_interface.lattice_2)"
   ]
  },
  {
   "cell_type": "markdown",
   "metadata": {},
   "source": [
    "## Searching two_dimensional CSL"
   ]
  },
  {
   "cell_type": "code",
   "execution_count": 6,
   "metadata": {
    "scrolled": false
   },
   "outputs": [
    {
     "name": "stdout",
     "output_type": "stream",
     "text": [
      "Congrates, we found an appx CSL!\n",
      "\n",
      "U1 = \n",
      "[[ 0 -5]\n",
      " [-1  0]\n",
      " [ 1  0]]; sigma_1 = 7\n",
      "\n",
      "U2 = \n",
      "[[ 0 -4]\n",
      " [ 0 -8]\n",
      " [ 1  0]]; sigma_2 = 9\n",
      "\n",
      "D = \n",
      "[[ 1.00814703  0.03176761  0.01391326]\n",
      " [ 0.02106213  1.03912687  0.00208519]\n",
      " [ 0.0054774  -0.01252615  0.98265365]]\n",
      "\n",
      "axis = [-18.19345118  10.50399394 -13.33003186] ; theta = 0.0\n",
      "\n"
     ]
    }
   ],
   "source": [
    "my_interface.parse_limit(du = 1e-1, S  = 1e-1, sgm1=100, sgm2=100, dd = 1e-1)\n",
    "\n",
    "#Do searching!\n",
    "my_interface.search_one_position_2D(hkl_1, hkl_2, theta_range = 2, \\\n",
    "                                    dtheta = 0.01, exact_R = R, match_tol = 0.01, pre_dt= True)"
   ]
  },
  {
   "cell_type": "markdown",
   "metadata": {},
   "source": [
    "## Get bicrystal"
   ]
  },
  {
   "cell_type": "code",
   "execution_count": 7,
   "metadata": {},
   "outputs": [
    {
     "name": "stdout",
     "output_type": "stream",
     "text": [
      "cell 1:\n",
      "[[ 0  0 -5]\n",
      " [-1 -1  0]\n",
      " [ 0  1  0]]\n",
      "cell 2:\n",
      "[[ 1  0 -4]\n",
      " [ 0  0 -8]\n",
      " [ 0  1  0]]\n"
     ]
    }
   ],
   "source": [
    "my_interface.compute_bicrystal_two_D(hkl_1 = hkl_1, hkl_2=hkl_2, normal_ortho = False, plane_ortho = False, lim = 50, tol_ortho = 1e-2, tol_integer=1e-3)"
   ]
  },
  {
   "cell_type": "code",
   "execution_count": 9,
   "metadata": {},
   "outputs": [],
   "source": [
    "my_interface.get_bicrystal(two_D = True, xyz_1 = [1,1,1], xyz_2 = [1,1,1])"
   ]
  },
  {
   "cell_type": "markdown",
   "metadata": {},
   "source": [
    "Please check the POSCAR file"
   ]
  }
 ],
 "metadata": {
  "kernelspec": {
   "display_name": "Python 3",
   "language": "python",
   "name": "python3"
  },
  "language_info": {
   "codemirror_mode": {
    "name": "ipython",
    "version": 3
   },
   "file_extension": ".py",
   "mimetype": "text/x-python",
   "name": "python",
   "nbconvert_exporter": "python",
   "pygments_lexer": "ipython3",
   "version": "3.8.3"
  }
 },
 "nbformat": 4,
 "nbformat_minor": 4
}

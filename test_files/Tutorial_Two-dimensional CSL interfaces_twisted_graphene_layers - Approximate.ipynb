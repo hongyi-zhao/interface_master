{
 "cells": [
  {
   "cell_type": "markdown",
   "metadata": {},
   "source": [
    "# Graphene - Approximate"
   ]
  },
  {
   "cell_type": "code",
   "execution_count": 25,
   "metadata": {},
   "outputs": [],
   "source": [
    "import sys\n",
    "sys.path.append('../interfacemaster/')"
   ]
  },
  {
   "cell_type": "code",
   "execution_count": 26,
   "metadata": {},
   "outputs": [],
   "source": [
    "from interfacemaster.cellcalc import get_primitive_hkl, get_pri_vec_inplane, get_normal_index, get_normal_from_MI, rot\n",
    "from interfacemaster.interface_generator import core, print_near_axis, convert_vector_index\n",
    "from numpy import array, dot, round, cross, eye, pi, ceil\n",
    "from numpy.linalg import inv, det, norm\n",
    "from gb_code.csl_generator import print_list"
   ]
  },
  {
   "cell_type": "code",
   "execution_count": 27,
   "metadata": {},
   "outputs": [
    {
     "name": "stdout",
     "output_type": "stream",
     "text": [
      "Warning!, this programme will rewrite the POSCAR file in this dir!\n"
     ]
    }
   ],
   "source": [
    "my_interface = core('cif_files/C_mp-990448_conventional_standard.cif',\\\n",
    "                    'cif_files/C_mp-990448_conventional_standard.cif')"
   ]
  },
  {
   "cell_type": "code",
   "execution_count": 64,
   "metadata": {},
   "outputs": [],
   "source": [
    "#combine the two [001] surfaces (graphene)\n",
    "hkl_1 = get_primitive_hkl([0, 0, 1], my_interface.conv_lattice_1, my_interface.lattice_1)\n",
    "hkl_2 = get_primitive_hkl([0, 0, 1], my_interface.conv_lattice_2, my_interface.lattice_2)"
   ]
  },
  {
   "cell_type": "markdown",
   "metadata": {},
   "source": [
    "## Searching two_dimensional CSL"
   ]
  },
  {
   "cell_type": "code",
   "execution_count": 65,
   "metadata": {},
   "outputs": [],
   "source": [
    "#a known target disorientation giving CSL\n",
    "R = rot(a=[0,0,1],Theta = 46.83/180 * pi)"
   ]
  },
  {
   "cell_type": "code",
   "execution_count": 66,
   "metadata": {},
   "outputs": [
    {
     "name": "stdout",
     "output_type": "stream",
     "text": [
      "Congrates, we found an appx CSL!\n",
      "\n",
      "U1 = \n",
      "[[ 3  2]\n",
      " [-2  5]\n",
      " [ 0  0]]; sigma_1 = 19\n",
      "\n",
      "U2 = \n",
      "[[ 5 -2]\n",
      " [ 2  3]\n",
      " [ 0  0]]; sigma_2 = 19\n",
      "\n",
      "D = \n",
      "[[1. 0. 0.]\n",
      " [0. 1. 0.]\n",
      " [0. 0. 1.]]\n",
      "\n",
      "axis = [ 3.23108364e-16  5.59640103e-16 -5.27676003e+00] ; theta = 0.0\n",
      "\n"
     ]
    }
   ],
   "source": [
    "my_interface.parse_limit(du = 1e-3, S  = 1e-3, sgm1=100, sgm2=100, dd = 1e-3)\n",
    "\n",
    "#Do searching!\n",
    "my_interface.search_one_position_2D(hkl_1, hkl_2, theta_range = 1, dtheta=0.01, pre_dt=True, pre_R = R, exact=True)"
   ]
  },
  {
   "cell_type": "markdown",
   "metadata": {},
   "source": [
    "## Get bicrystal"
   ]
  },
  {
   "cell_type": "code",
   "execution_count": 67,
   "metadata": {},
   "outputs": [
    {
     "name": "stdout",
     "output_type": "stream",
     "text": [
      "cell 1:\n",
      "[[ 0  3  2]\n",
      " [ 0 -2  5]\n",
      " [ 1  0  0]]\n",
      "cell 2:\n",
      "[[ 0  5 -2]\n",
      " [ 0  2  3]\n",
      " [ 1  0  0]]\n"
     ]
    }
   ],
   "source": [
    "my_interface.compute_bicrystal_two_D(hkl_1 = hkl_1, hkl_2=hkl_2, normal_ortho = False, plane_ortho = False, lim = 50, tol_ortho = 1e-2, tol_integer=1e-3)"
   ]
  },
  {
   "cell_type": "code",
   "execution_count": 68,
   "metadata": {},
   "outputs": [],
   "source": [
    "my_interface.get_bicrystal(two_D = True, xyz_1 = [1,1,1], xyz_2 = [1,1,1], dp1 = 9.99905800e+00-3.4, filetype= 'VASP')"
   ]
  },
  {
   "cell_type": "code",
   "execution_count": 69,
   "metadata": {},
   "outputs": [],
   "source": [
    "n1 = int(ceil(norm(my_interface.CNID[:,0])/0.5))\n",
    "n2 = int(ceil(norm(my_interface.CNID[:,1])/0.5))"
   ]
  },
  {
   "cell_type": "code",
   "execution_count": 70,
   "metadata": {},
   "outputs": [
    {
     "name": "stdout",
     "output_type": "stream",
     "text": [
      "CNID\n",
      "[[ 0.28571429  0.42857143]\n",
      " [-0.14285714  0.28571429]\n",
      " [ 0.          0.        ]]\n",
      "making 4 files...\n",
      "completed\n"
     ]
    }
   ],
   "source": [
    "my_interface.sample_CNID([n1,n2], dp1 = 9.99905800e+00-3.4)"
   ]
  },
  {
   "cell_type": "markdown",
   "metadata": {},
   "source": [
    "Please check the POSCAR file"
   ]
  }
 ],
 "metadata": {
  "kernelspec": {
   "display_name": "Python 3",
   "language": "python",
   "name": "python3"
  },
  "language_info": {
   "codemirror_mode": {
    "name": "ipython",
    "version": 3
   },
   "file_extension": ".py",
   "mimetype": "text/x-python",
   "name": "python",
   "nbconvert_exporter": "python",
   "pygments_lexer": "ipython3",
   "version": "3.8.3"
  }
 },
 "nbformat": 4,
 "nbformat_minor": 4
}

{
 "cells": [
  {
   "cell_type": "code",
   "execution_count": 1,
   "metadata": {},
   "outputs": [],
   "source": [
    "import sys\n",
    "sys.path.append('../interfacemaster/')"
   ]
  },
  {
   "cell_type": "code",
   "execution_count": 2,
   "metadata": {},
   "outputs": [],
   "source": [
    "from interfacemaster.cellcalc import get_primitive_hkl, get_pri_vec_inplane, get_normal_index, get_normal_from_MI, rot\n",
    "from interfacemaster.interface_generator import core, print_near_axis, convert_vector_index\n",
    "from numpy import array, dot, round, cross, eye, pi\n",
    "from numpy.linalg import inv, det, norm\n",
    "from gb_code.csl_generator import print_list"
   ]
  },
  {
   "cell_type": "code",
   "execution_count": 3,
   "metadata": {},
   "outputs": [
    {
     "name": "stdout",
     "output_type": "stream",
     "text": [
      "Warning!, this programme will rewrite the POSCAR file in this dir!\n"
     ]
    },
    {
     "name": "stderr",
     "output_type": "stream",
     "text": [
      "/Users/jasonxie/.local/lib/python3.8/site-packages/pymatgen/io/cif.py:1121: UserWarning: Issues encountered while parsing CIF: Some fractional co-ordinates rounded to ideal values to avoid issues with finite precision.\n",
      "  warnings.warn(\"Issues encountered while parsing CIF: %s\" % \"\\n\".join(self.warnings))\n"
     ]
    }
   ],
   "source": [
    "my_interface = core('cif_files/C_mp-990448_conventional_standard.cif',\\\n",
    "                    'cif_files/C_mp-990448_conventional_standard.cif')"
   ]
  },
  {
   "cell_type": "markdown",
   "metadata": {},
   "source": [
    "# Get the two axis aligned to be collinear, expressed in primitive cell"
   ]
  },
  {
   "cell_type": "code",
   "execution_count": 4,
   "metadata": {},
   "outputs": [
    {
     "name": "stdout",
     "output_type": "stream",
     "text": [
      "Sigma:     1  Theta:   0.00 \n",
      "Sigma:     3  Theta:  60.00 \n",
      "Sigma:     7  Theta:  38.21 \n",
      "Sigma:    13  Theta:  27.80 \n",
      "Sigma:    19  Theta:  46.83 \n",
      "Sigma:    21  Theta:  21.79 \n",
      "Sigma:    31  Theta:  17.90 \n",
      "Sigma:    37  Theta:  50.57 \n",
      "Sigma:    39  Theta:  32.20 \n",
      "Sigma:    43  Theta:  15.18 \n",
      "Sigma:    49  Theta:  43.57 \n",
      "Sigma:    57  Theta:  13.17 \n",
      "Sigma:    61  Theta:  52.66 \n",
      "Sigma:    67  Theta:  24.43 \n",
      "Sigma:    73  Theta:  11.64 \n",
      "Sigma:    79  Theta:  33.99 \n",
      "Sigma:    91  Theta:  10.42 \n",
      "Sigma:    93  Theta:  42.10 \n",
      "Sigma:    97  Theta:  30.59 \n"
     ]
    }
   ],
   "source": [
    "print_list([1,1,1],100)"
   ]
  },
  {
   "cell_type": "code",
   "execution_count": 5,
   "metadata": {},
   "outputs": [],
   "source": [
    "hkl_1 = get_primitive_hkl([0, 0, 1], my_interface.conv_lattice_1, my_interface.lattice_1)\n",
    "hkl_2 = get_primitive_hkl([0, 0, 1], my_interface.conv_lattice_2, my_interface.lattice_2)"
   ]
  },
  {
   "cell_type": "markdown",
   "metadata": {},
   "source": [
    "# Searching two_dimensional CSL"
   ]
  },
  {
   "cell_type": "code",
   "execution_count": 6,
   "metadata": {},
   "outputs": [],
   "source": [
    "R = rot(a=[0,0,1],Theta = 11.64/180 * pi)"
   ]
  },
  {
   "cell_type": "code",
   "execution_count": 7,
   "metadata": {},
   "outputs": [
    {
     "name": "stdout",
     "output_type": "stream",
     "text": [
      "Congrates, we found an appx CSL!\n",
      "\n",
      "U1 = \n",
      "[[ 8  9]\n",
      " [-1  8]\n",
      " [ 0  0]]; sigma_1 = 73\n",
      "\n",
      "U2 = \n",
      "[[9 8]\n",
      " [1 9]\n",
      " [0 0]]; sigma_2 = 73\n",
      "\n",
      "D = \n",
      "[[1. 0. 0.]\n",
      " [0. 1. 0.]\n",
      " [0. 0. 1.]]\n",
      "\n",
      "axis = [ 3.23108364e-16  5.59640103e-16 -5.27676003e+00] ; theta = 0.0\n",
      "\n"
     ]
    }
   ],
   "source": [
    "my_interface.parse_limit(du = 1e-2, S  = 1e-2, sgm1=100, sgm2=100, dd = 1e-2)\n",
    "\n",
    "#Do searching!\n",
    "my_interface.search_one_position_2D(hkl_1, hkl_2, theta_range = 1, dtheta=0.01, pre_dt=True, pre_R = R, exact=True)"
   ]
  },
  {
   "cell_type": "markdown",
   "metadata": {},
   "source": [
    "# Get bicrystal"
   ]
  },
  {
   "cell_type": "code",
   "execution_count": 8,
   "metadata": {},
   "outputs": [
    {
     "name": "stdout",
     "output_type": "stream",
     "text": [
      "cell 1:\n",
      "[[ 0  8  9]\n",
      " [ 0 -1  8]\n",
      " [ 1  0  0]]\n",
      "cell 2:\n",
      "[[0 9 8]\n",
      " [0 1 9]\n",
      " [1 0 0]]\n"
     ]
    }
   ],
   "source": [
    "my_interface.compute_bicrystal_two_D(hkl_1 = hkl_1, hkl_2=hkl_2, normal_ortho = False, plane_ortho = False, lim = 50, tol_integer = 1e-3)"
   ]
  },
  {
   "cell_type": "code",
   "execution_count": 9,
   "metadata": {},
   "outputs": [],
   "source": [
    "my_interface.get_bicrystal(two_D = True, xyz_1 = [1,1,1], xyz_2 = [1,1,1], dp1 = 8, filetype= 'VASP')"
   ]
  },
  {
   "cell_type": "markdown",
   "metadata": {},
   "source": [
    "Please check the POSCAR file"
   ]
  }
 ],
 "metadata": {
  "kernelspec": {
   "display_name": "Python 3",
   "language": "python",
   "name": "python3"
  },
  "language_info": {
   "codemirror_mode": {
    "name": "ipython",
    "version": 3
   },
   "file_extension": ".py",
   "mimetype": "text/x-python",
   "name": "python",
   "nbconvert_exporter": "python",
   "pygments_lexer": "ipython3",
   "version": "3.8.3"
  }
 },
 "nbformat": 4,
 "nbformat_minor": 4
}

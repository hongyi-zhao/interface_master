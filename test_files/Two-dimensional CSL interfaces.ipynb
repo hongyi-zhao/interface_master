{
 "cells": [
  {
   "cell_type": "code",
   "execution_count": 134,
   "metadata": {},
   "outputs": [],
   "source": [
    "from cellcalc import get_primitive_hkl\n",
    "from interface_generator import core, print_near_axis, convert_vector_index\n",
    "from numpy import array, dot, round\n",
    "from numpy.linalg import inv"
   ]
  },
  {
   "cell_type": "code",
   "execution_count": 120,
   "metadata": {},
   "outputs": [
    {
     "name": "stdout",
     "output_type": "stream",
     "text": [
      "Warning!, this programme will rewrite the POSCAR file in this dir!\n"
     ]
    },
    {
     "name": "stderr",
     "output_type": "stream",
     "text": [
      "/Users/jasonxie/.local/lib/python3.8/site-packages/pymatgen/io/cif.py:1121: UserWarning: Issues encountered while parsing CIF: Some fractional co-ordinates rounded to ideal values to avoid issues with finite precision.\n",
      "  warnings.warn(\"Issues encountered while parsing CIF: %s\" % \"\\n\".join(self.warnings))\n"
     ]
    }
   ],
   "source": [
    "my_interface = core('Te_mp-567313_conventional_standard.cif',\\\n",
    "                    'Te_mp-567313_conventional_standard.cif')"
   ]
  },
  {
   "cell_type": "code",
   "execution_count": 123,
   "metadata": {},
   "outputs": [],
   "source": [
    "axis = [1,1,0]"
   ]
  },
  {
   "cell_type": "code",
   "execution_count": 129,
   "metadata": {},
   "outputs": [
    {
     "name": "stdout",
     "output_type": "stream",
     "text": [
      "[-4.50673972e+00  0.00000000e+00 -2.75958219e-16]\n",
      "Congrates, we found an appx CSL!\n",
      "\n",
      "U1 = \n",
      "[[ 1  0 12]\n",
      " [ 1  0 -7]\n",
      " [ 0  1  0]]; sigma_1 = 19\n",
      "\n",
      "U2 = \n",
      "[[-1  0 12]\n",
      " [ 1  0  7]\n",
      " [ 0  1  0]]; sigma_2 = 19\n",
      "\n",
      "D = \n",
      "[[ 1.00000000e+00 -0.00000000e+00  0.00000000e+00]\n",
      " [ 0.00000000e+00  1.00004227e+00  3.17000000e-05]\n",
      " [-0.00000000e+00 -5.47600000e-05  9.99957730e-01]]\n",
      "\n",
      "axis = [-4.50673972e+00  0.00000000e+00 -2.75958219e-16] ; theta = 74.74\n",
      "\n"
     ]
    }
   ],
   "source": [
    "my_interface.parse_limit(du = 1e-4, S  = 1e-4, sgm1=100, sgm2=100, dd = 1e-4)\n",
    "\n",
    "#Do searching!\n",
    "#We already know that there is a CSL by rotation 180 degrees\n",
    "my_interface.search_one_position(axis,73,5,0.01,two_D = True)"
   ]
  },
  {
   "cell_type": "code",
   "execution_count": 132,
   "metadata": {},
   "outputs": [],
   "source": [
    "my_interface.compute_bicrystal_two_D(orthogonal = False, lim = 50, tol = 1e-2)"
   ]
  },
  {
   "cell_type": "code",
   "execution_count": 133,
   "metadata": {},
   "outputs": [],
   "source": [
    "my_interface.get_bicrystal(two_D= True, xyz = [3,1,1])"
   ]
  }
 ],
 "metadata": {
  "kernelspec": {
   "display_name": "Python 3",
   "language": "python",
   "name": "python3"
  },
  "language_info": {
   "codemirror_mode": {
    "name": "ipython",
    "version": 3
   },
   "file_extension": ".py",
   "mimetype": "text/x-python",
   "name": "python",
   "nbconvert_exporter": "python",
   "pygments_lexer": "ipython3",
   "version": "3.8.3"
  }
 },
 "nbformat": 4,
 "nbformat_minor": 4
}

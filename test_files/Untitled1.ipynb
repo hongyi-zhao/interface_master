{
 "cells": [
  {
   "cell_type": "code",
   "execution_count": 2,
   "metadata": {},
   "outputs": [],
   "source": [
    "import cnidcal.cnidcal as cdc\n",
    "import numpy as np\n",
    "from numpy import dot, cross, pi, square, array\n",
    "from numpy.linalg import det, norm, inv\n",
    "from cnidcal.celldraw import cellsdrawer"
   ]
  },
  {
   "cell_type": "code",
   "execution_count": 3,
   "metadata": {},
   "outputs": [],
   "source": [
    "R = array([[-2.43155844e-16, -1.06264071e-01,  9.94337944e-01],\n",
    "       [ 8.62919631e-18, -9.94337944e-01, -1.06264071e-01],\n",
    "       [ 1.00000000e+00, -1.72583926e-17,  2.42696055e-16]])"
   ]
  },
  {
   "cell_type": "code",
   "execution_count": 4,
   "metadata": {},
   "outputs": [],
   "source": [
    "conv_lattice_1 = array([[ 5.46872800e+00, -3.34863012e-16,  0.00000000e+00],\n",
    "       [ 0.00000000e+00,  5.46872800e+00,  0.00000000e+00],\n",
    "       [ 3.34863012e-16,  3.34863012e-16,  5.46872800e+00]])\n"
   ]
  },
  {
   "cell_type": "code",
   "execution_count": null,
   "metadata": {},
   "outputs": [],
   "source": []
  }
 ],
 "metadata": {
  "kernelspec": {
   "display_name": "Python 3",
   "language": "python",
   "name": "python3"
  },
  "language_info": {
   "codemirror_mode": {
    "name": "ipython",
    "version": 3
   },
   "file_extension": ".py",
   "mimetype": "text/x-python",
   "name": "python",
   "nbconvert_exporter": "python",
   "pygments_lexer": "ipython3",
   "version": "3.8.3"
  }
 },
 "nbformat": 4,
 "nbformat_minor": 4
}

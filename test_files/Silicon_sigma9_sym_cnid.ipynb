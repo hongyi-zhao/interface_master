{
 "cells": [
  {
   "cell_type": "code",
   "execution_count": 1,
   "metadata": {},
   "outputs": [],
   "source": [
    "from cellcalc import get_primitive_hkl\n",
    "from interface_generator import core, print_near_axis, \\\n",
    "convert_vector_index, write_trans_file, write_LAMMPS, RBT_deletion_one_by_one\n",
    "from numpy import array, dot, round, var, average, ceil\n",
    "from numpy.linalg import inv, norm, det"
   ]
  },
  {
   "cell_type": "code",
   "execution_count": 2,
   "metadata": {},
   "outputs": [
    {
     "name": "stdout",
     "output_type": "stream",
     "text": [
      "Warning!, this programme will rewrite the POSCAR file in this dir!\n"
     ]
    }
   ],
   "source": [
    "my_interface = core('Si_mp-149_conventional_standard.cif','Si_mp-149_conventional_standard.cif')"
   ]
  },
  {
   "cell_type": "code",
   "execution_count": 3,
   "metadata": {},
   "outputs": [],
   "source": [
    "factor = 5.43356/5.468728"
   ]
  },
  {
   "cell_type": "code",
   "execution_count": 4,
   "metadata": {},
   "outputs": [],
   "source": [
    "my_interface.conv_lattice_1 = my_interface.conv_lattice_1 * factor\n",
    "my_interface.conv_lattice_2 = my_interface.conv_lattice_2 * factor"
   ]
  },
  {
   "cell_type": "code",
   "execution_count": 5,
   "metadata": {},
   "outputs": [],
   "source": [
    "my_interface.lattice_1 = my_interface.lattice_1 * factor"
   ]
  },
  {
   "cell_type": "code",
   "execution_count": 6,
   "metadata": {},
   "outputs": [],
   "source": [
    "my_interface.lattice_2 = my_interface.lattice_2 * factor"
   ]
  },
  {
   "cell_type": "code",
   "execution_count": 7,
   "metadata": {},
   "outputs": [
    {
     "data": {
      "text/plain": [
       "array([-1., -1.,  1.])"
      ]
     },
     "execution_count": 7,
     "metadata": {},
     "output_type": "execute_result"
    }
   ],
   "source": [
    "axis = convert_vector_index(my_interface.conv_lattice_1, my_interface.lattice_1, [1,0,0])\n",
    "axis"
   ]
  },
  {
   "cell_type": "code",
   "execution_count": 8,
   "metadata": {},
   "outputs": [
    {
     "name": "stdout",
     "output_type": "stream",
     "text": [
      "[5.4335600e+00 0.0000000e+00 4.4408921e-16]\n",
      "Congrates, we found an appx CSL!\n",
      "\n",
      "U1 = \n",
      "[[ 1  0  1]\n",
      " [ 1  1 -2]\n",
      " [-1  1  1]]; sigma_1 = 5\n",
      "\n",
      "U2 = \n",
      "[[ 1  1  1]\n",
      " [ 1  0 -2]\n",
      " [-1  1  0]]; sigma_2 = 5\n",
      "\n",
      "D = \n",
      "[[ 1.00e+00  0.00e+00  0.00e+00]\n",
      " [ 0.00e+00  1.00e+00  1.79e-06]\n",
      " [ 0.00e+00 -1.79e-06  1.00e+00]]\n",
      "\n",
      "axis = [5.4335600e+00 0.0000000e+00 4.4408921e-16] ; theta = 36.87\n",
      "\n"
     ]
    }
   ],
   "source": [
    "my_interface.parse_limit(du = 1e-4, S  = 1e-4, sgm1=100, sgm2=100, dd = 1e-4)\n",
    "#Do searching!\n",
    "#We already know that there is a CSL by rotation 180 degrees\n",
    "my_interface.search_one_position(axis,36.0,1,0.01)"
   ]
  },
  {
   "cell_type": "code",
   "execution_count": 9,
   "metadata": {},
   "outputs": [
    {
     "data": {
      "text/plain": [
       "array([-1, -2, -3])"
      ]
     },
     "execution_count": 9,
     "metadata": {},
     "output_type": "execute_result"
    }
   ],
   "source": [
    "hkl = get_primitive_hkl(array([0,1,2]), my_interface.conv_lattice_1, my_interface.lattice_1)\n",
    "hkl"
   ]
  },
  {
   "cell_type": "code",
   "execution_count": 10,
   "metadata": {},
   "outputs": [
    {
     "ename": "NameError",
     "evalue": "name 'os' is not defined",
     "output_type": "error",
     "traceback": [
      "\u001b[0;31m---------------------------------------------------------------------------\u001b[0m",
      "\u001b[0;31mNameError\u001b[0m                                 Traceback (most recent call last)",
      "\u001b[0;32m<ipython-input-10-9acd8efc7354>\u001b[0m in \u001b[0;36m<module>\u001b[0;34m\u001b[0m\n\u001b[0;32m----> 1\u001b[0;31m \u001b[0mos\u001b[0m\u001b[0;34m.\u001b[0m\u001b[0mchdir\u001b[0m\u001b[0;34m(\u001b[0m\u001b[0mos\u001b[0m\u001b[0;34m.\u001b[0m\u001b[0mpath\u001b[0m\u001b[0;34m.\u001b[0m\u001b[0mpardir\u001b[0m\u001b[0;34m)\u001b[0m\u001b[0;34m\u001b[0m\u001b[0;34m\u001b[0m\u001b[0m\n\u001b[0m",
      "\u001b[0;31mNameError\u001b[0m: name 'os' is not defined"
     ]
    }
   ],
   "source": [
    "os.chdir(os.path.pardir)"
   ]
  },
  {
   "cell_type": "code",
   "execution_count": 60,
   "metadata": {},
   "outputs": [
    {
     "name": "stdout",
     "output_type": "stream",
     "text": [
      "cell 1:\n",
      "[[-1  1 -1]\n",
      " [ 1  1  2]\n",
      " [ 3 -1 -1]]\n",
      "cell 2:\n",
      "[[-1  1 -1]\n",
      " [ 1  1  2]\n",
      " [ 3 -1 -1]]\n"
     ]
    }
   ],
   "source": [
    "my_interface.compute_bicrystal(hkl, orthogonal = True, lim = 50, tol = 1e-2)\n",
    "my_interface.get_bicrystal(xyz_1 = [9,1,1], xyz_2 = [9,1,1],dp1 = 0.608, dp2 = 0,\\\n",
    "                           filetype = 'LAMMPS', filename = 'atominfile', vx = 10)"
   ]
  },
  {
   "cell_type": "code",
   "execution_count": 35,
   "metadata": {},
   "outputs": [],
   "source": [
    "my_interface.get_bicrystal(xyz_1 = [9,1,1], xyz_2 = [9,1,1],dp1 = 0, dp2 = 0.5073,\\\n",
    "                            vx = 10)"
   ]
  },
  {
   "cell_type": "code",
   "execution_count": 59,
   "metadata": {},
   "outputs": [
    {
     "data": {
      "text/plain": [
       "[0.6074856784138234]"
      ]
     },
     "execution_count": 59,
     "metadata": {},
     "output_type": "execute_result"
    }
   ],
   "source": [
    "my_interface.dp_list_1"
   ]
  },
  {
   "cell_type": "code",
   "execution_count": 12,
   "metadata": {},
   "outputs": [
    {
     "data": {
      "text/plain": [
       "\"\\nmy_interface.define_lammps_regions(['right'],[16.4],[32.15])\\nv1, v2 = 2*dot(my_interface.orient, my_interface.CNID).T\\nwrite_trans_file(v1,v2,50,ceil(norm(v2)/norm(v1))*50)\\n\""
      ]
     },
     "execution_count": 12,
     "metadata": {},
     "output_type": "execute_result"
    }
   ],
   "source": [
    "\"\"\"\n",
    "my_interface.define_lammps_regions(['right'],[16.4],[32.15])\n",
    "v1, v2 = 2*dot(my_interface.orient, my_interface.CNID).T\n",
    "write_trans_file(v1,v2,50,ceil(norm(v2)/norm(v1))*50)\n",
    "\"\"\""
   ]
  },
  {
   "cell_type": "code",
   "execution_count": 13,
   "metadata": {},
   "outputs": [
    {
     "data": {
      "text/plain": [
       "\"\\nfrom numpy import *\\ndx, dy, dz, energy = loadtxt('results', unpack = True)\\nimport matplotlib.pyplot as plt\\nplt.figure(figsize = ((max(dy) - min(dy)),(max(dz) - min(dz))))\\npcm = plt.scatter(dy,dz, c = energy,cmap = 'hot',s=30,vmin = -300, vmax = 0)\\nplt.colorbar(pcm,cmap = 'hot')\\n\\n#since dx is almost zero (interface is in the y-z plane), we just check dz & dy\\nplt.ylabel('dz (angstrom)',fontsize = 20)\\nplt.xlabel('dy (angstrom)',fontsize = 20)\\nplt.axis('scaled')\\nplt.title('A_A termination',fontsize = 20)\\nplt.savefig('A_A',dpi = 600)\\n\""
      ]
     },
     "execution_count": 13,
     "metadata": {},
     "output_type": "execute_result"
    }
   ],
   "source": [
    "\"\"\"\n",
    "from numpy import *\n",
    "dx, dy, dz, energy = loadtxt('results', unpack = True)\n",
    "import matplotlib.pyplot as plt\n",
    "plt.figure(figsize = ((max(dy) - min(dy)),(max(dz) - min(dz))))\n",
    "pcm = plt.scatter(dy,dz, c = energy,cmap = 'hot',s=30,vmin = -300, vmax = 0)\n",
    "plt.colorbar(pcm,cmap = 'hot')\n",
    "\n",
    "#since dx is almost zero (interface is in the y-z plane), we just check dz & dy\n",
    "plt.ylabel('dz (angstrom)',fontsize = 20)\n",
    "plt.xlabel('dy (angstrom)',fontsize = 20)\n",
    "plt.axis('scaled')\n",
    "plt.title('A_A termination',fontsize = 20)\n",
    "plt.savefig('A_A',dpi = 600)\n",
    "\"\"\""
   ]
  },
  {
   "cell_type": "code",
   "execution_count": 21,
   "metadata": {},
   "outputs": [
    {
     "data": {
      "text/plain": [
       "27.1678"
      ]
     },
     "execution_count": 21,
     "metadata": {},
     "output_type": "execute_result"
    }
   ],
   "source": [
    "norm(dot(my_interface.orient, my_interface.CNID)[:,0])/0.2"
   ]
  },
  {
   "cell_type": "code",
   "execution_count": 61,
   "metadata": {},
   "outputs": [
    {
     "data": {
      "text/plain": [
       "array([[-9.09315636e-35,  1.12186184e-18],\n",
       "       [ 1.00000000e+00, -1.00000000e+00],\n",
       "       [ 1.05980775e-49,  1.00000000e+00]])"
      ]
     },
     "execution_count": 61,
     "metadata": {},
     "output_type": "execute_result"
    }
   ],
   "source": [
    "CNID = dot(my_interface.orient, my_interface.CNID)\n",
    "CNID = dot(inv(my_interface.lattice_bi), CNID)\n",
    "CNID"
   ]
  },
  {
   "cell_type": "code",
   "execution_count": 48,
   "metadata": {},
   "outputs": [
    {
     "data": {
      "text/plain": [
       "'/Users/jasonxie/Desktop/projects/DSC_cm/interface_master_1.1/test_files/sigma5_st_BB'"
      ]
     },
     "execution_count": 48,
     "metadata": {},
     "output_type": "execute_result"
    }
   ],
   "source": [
    "import os\n",
    "os.getcwd()"
   ]
  },
  {
   "cell_type": "code",
   "execution_count": 58,
   "metadata": {},
   "outputs": [],
   "source": [
    "#os.mkdir('sigma5_st_AB')\n",
    "os.chdir('sigma5_st_AA')"
   ]
  },
  {
   "cell_type": "code",
   "execution_count": 47,
   "metadata": {},
   "outputs": [],
   "source": [
    "d_nearest = 2.35820"
   ]
  },
  {
   "cell_type": "code",
   "execution_count": 62,
   "metadata": {},
   "outputs": [],
   "source": [
    "size_list = [[1, 2], [1, 3], [1, 5], [1, 7], [1, 8],\\\n",
    "             [2, 2], [2, 3], [2, 5], [2, 7], [2, 8],\\\n",
    "             [3, 2], [3, 3], [3, 5], [3, 7], [3, 8],\\\n",
    "             [4, 7], [5, 5], [7, 7]]\n",
    "\n",
    "for i in size_list:\n",
    "    name = '{0}{1}'.format(i[0],i[1])\n",
    "    os.mkdir(name)\n",
    "    os.chdir(name)\n",
    "    my_interface.get_bicrystal(xyz_1 = [9,i[0],i[1]], xyz_2 = [9,i[0],i[1]],dp1 = 0, dp2 = 0,\\\n",
    "                           filetype = 'LAMMPS', filename = 'atominfile', vx = 10)\n",
    "    RBT_deletion_one_by_one(my_interface.lattice_bi, my_interface.atoms_bi, my_interface.elements_bi, CNID, \\\n",
    "                       [28,34], 109, d_nearest, xlo = 106, xhi = 111.5)\n",
    "    os.chdir(os.path.pardir)"
   ]
  },
  {
   "cell_type": "code",
   "execution_count": 57,
   "metadata": {},
   "outputs": [],
   "source": [
    "os.chdir(os.path.pardir)"
   ]
  },
  {
   "cell_type": "code",
   "execution_count": 63,
   "metadata": {},
   "outputs": [],
   "source": [
    "file_epl = open('expansion_loop','w')\n",
    "file_cl = open('cnid_loop','w')\n",
    "file_dl = open('deleting_loop','w')\n",
    "\n",
    "\n",
    "for i in size_list:\n",
    "    expansion_name = '{0}{1}'.format(i[0],i[1])\n",
    "    os.chdir(expansion_name)\n",
    "    for j in range(28):\n",
    "        for k in range(34):\n",
    "            cnid_name = '{0} {1}'.format(j,k)\n",
    "            cnid_name_t = '{0}_{1}'.format(j,k)\n",
    "            os.rename(cnid_name, cnid_name_t)\n",
    "            os.chdir(cnid_name_t)\n",
    "            for h in os.listdir():\n",
    "                file_epl.write('{0}{1}\\n'.format(i[0],i[1]))\n",
    "                file_dl.write('{}\\n'.format(h)) \n",
    "                file_cl.write('{} \\n'.format(cnid_name_t))\n",
    "            os.chdir(os.path.pardir)\n",
    "    os.chdir(os.path.pardir)\n",
    "file_epl.close()\n",
    "file_cl.close()\n",
    "file_dl.close()"
   ]
  },
  {
   "cell_type": "code",
   "execution_count": null,
   "metadata": {},
   "outputs": [],
   "source": [
    "os.rename()"
   ]
  },
  {
   "cell_type": "code",
   "execution_count": 65,
   "metadata": {},
   "outputs": [],
   "source": [
    "my_interface.define_lammps_regions(['middle','bulk'],[69,39],[149,69])"
   ]
  },
  {
   "cell_type": "code",
   "execution_count": 64,
   "metadata": {},
   "outputs": [
    {
     "data": {
      "text/plain": [
       "'/Users/jasonxie/Desktop/projects/DSC_cm/interface_master_1.1/test_files/sigma5_st_AA'"
      ]
     },
     "execution_count": 64,
     "metadata": {},
     "output_type": "execute_result"
    }
   ],
   "source": [
    "os.getcwd()"
   ]
  },
  {
   "cell_type": "code",
   "execution_count": 89,
   "metadata": {},
   "outputs": [
    {
     "data": {
      "text/plain": [
       "85.20271999999999"
      ]
     },
     "execution_count": 89,
     "metadata": {},
     "output_type": "execute_result"
    }
   ],
   "source": [
    "norm(my_interface.lattice_bi[:,0])"
   ]
  }
 ],
 "metadata": {
  "kernelspec": {
   "display_name": "Python 3",
   "language": "python",
   "name": "python3"
  },
  "language_info": {
   "codemirror_mode": {
    "name": "ipython",
    "version": 3
   },
   "file_extension": ".py",
   "mimetype": "text/x-python",
   "name": "python",
   "nbconvert_exporter": "python",
   "pygments_lexer": "ipython3",
   "version": "3.8.3"
  }
 },
 "nbformat": 4,
 "nbformat_minor": 4
}

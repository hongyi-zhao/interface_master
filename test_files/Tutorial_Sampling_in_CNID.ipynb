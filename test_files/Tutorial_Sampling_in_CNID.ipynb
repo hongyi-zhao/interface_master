{
 "cells": [
  {
   "cell_type": "markdown",
   "metadata": {},
   "source": [
    "# Sampling in CNID"
   ]
  },
  {
   "cell_type": "markdown",
   "metadata": {},
   "source": [
    "In this tutorial, let us verify the computed CNID. \n",
    "\n",
    "We do this by sampling the total energy of a system of Si(111)/SiC(0001) interface with \n",
    "displacing one crystal in the CNID."
   ]
  },
  {
   "cell_type": "markdown",
   "metadata": {},
   "source": [
    "## Again, making an two-D CSL interface following the previous tutorials"
   ]
  },
  {
   "cell_type": "code",
   "execution_count": 1,
   "metadata": {},
   "outputs": [],
   "source": [
    "from interfacemaster.cellcalc import get_primitive_hkl, get_pri_vec_inplane, get_normal_index\n",
    "from interfacemaster.interface_generator import core, print_near_axis, convert_vector_index, write_trans_file\n",
    "from numpy import array, dot, round, cross\n",
    "from numpy.linalg import inv, det"
   ]
  },
  {
   "cell_type": "code",
   "execution_count": 2,
   "metadata": {},
   "outputs": [
    {
     "name": "stdout",
     "output_type": "stream",
     "text": [
      "Warning!, this programme will rewrite the POSCAR file in this dir!\n"
     ]
    },
    {
     "name": "stderr",
     "output_type": "stream",
     "text": [
      "/Users/jasonxie/.local/lib/python3.8/site-packages/pymatgen/io/cif.py:1121: UserWarning: Issues encountered while parsing CIF: Some fractional co-ordinates rounded to ideal values to avoid issues with finite precision.\n",
      "  warnings.warn(\"Issues encountered while parsing CIF: %s\" % \"\\n\".join(self.warnings))\n"
     ]
    }
   ],
   "source": [
    "my_interface = core('cif_files/Si_mp-149_conventional_standard.cif',\\\n",
    "                    'cif_files/SiC_mp-568656_conventional_standard.cif')"
   ]
  },
  {
   "cell_type": "code",
   "execution_count": 3,
   "metadata": {},
   "outputs": [],
   "source": [
    "hkl_1 = get_primitive_hkl([1,1,1], my_interface.conv_lattice_1, my_interface.lattice_1)\n",
    "hkl_2 = get_primitive_hkl([0,0,1], my_interface.conv_lattice_2, my_interface.lattice_2)"
   ]
  },
  {
   "cell_type": "code",
   "execution_count": 4,
   "metadata": {},
   "outputs": [
    {
     "name": "stdout",
     "output_type": "stream",
     "text": [
      "2\n",
      "[1.367182 1.367182 1.367182] [0. 0. 1.]\n",
      "[-0.57735027 -0.57735027 -0.57735027] [ 0.  0. -1.]\n",
      "[[ 9.24075272e-01 -4.59104470e-01 -2.85029212e-16]\n",
      " [-4.64970802e-01  9.24075272e-01  4.71845332e-16]\n",
      " [ 9.50729695e-18 -1.63723412e-17  1.00000000e+00]]\n",
      "Congrates, we found an appx CSL!\n",
      "\n",
      "U1 = \n",
      "[[ 1 -6]\n",
      " [-6  5]\n",
      " [ 5  1]]; sigma_1 = 54\n",
      "\n",
      "U2 = \n",
      "[[-3 -5]\n",
      " [-8  3]\n",
      " [ 0  0]]; sigma_2 = 49\n",
      "\n",
      "D = \n",
      "[[ 0.99590432  0.00730638 -0.0032107 ]\n",
      " [-0.0032107   0.99590432  0.00730638]\n",
      " [ 0.00730638 -0.0032107   0.99590432]]\n",
      "\n",
      "axis = [-7.47674648 -7.47674648 -7.47674648] ; theta = 15.21\n",
      "\n"
     ]
    }
   ],
   "source": [
    "my_interface.parse_limit(du = 2e-2, S  = 2e-2, sgm1=50, sgm2=50, dd = 2e-2)\n",
    "\n",
    "#Do searching!\n",
    "my_interface.search_one_position_2D(hkl_1, hkl_2, theta_range = 180, \\\n",
    "                                    dtheta = 0.01, start = 15.21, integer_tol=1e-3)"
   ]
  },
  {
   "cell_type": "code",
   "execution_count": 5,
   "metadata": {},
   "outputs": [
    {
     "name": "stdout",
     "output_type": "stream",
     "text": [
      "[[ 13.67182    2.734364]\n",
      " [-16.406184  13.67182 ]\n",
      " [  2.734364 -16.406184]]\n",
      "[[ 13.67182    2.734364]\n",
      " [-16.406184  13.67182 ]\n",
      " [  2.734364 -16.406184]]\n",
      "[[ 9.47211475e+00 -7.41964412e-16  1.24257699e-15]\n",
      " [ 2.51391483e-16  2.15304037e+01 -1.07652018e+01]\n",
      " [-2.78325182e-16  9.20825833e-16  1.86458765e+01]]\n"
     ]
    }
   ],
   "source": [
    "my_interface.compute_bicrystal_two_D(hkl_1 = hkl_1, hkl_2=hkl_2, \\\n",
    "                                     normal_ortho = True, plane_ortho = True, \\\n",
    "                                     lim = 50, tol_ortho = 1e-2)\n",
    "my_interface.get_bicrystal(two_D = True, xyz_1 = [1,1,1], xyz_2 = [1,1,1])"
   ]
  },
  {
   "cell_type": "markdown",
   "metadata": {},
   "source": [
    "## Generate LAMMPS commands to sampling system energy in the CNID"
   ]
  },
  {
   "cell_type": "markdown",
   "metadata": {},
   "source": [
    "The interface structure can be complex, especially when we can have a 'triclinic' cell.\n",
    "\n",
    "Therefore, we provide some functions here to help you write some necessary input commands for LAMMPS.\n",
    "\n",
    "Note that it is far more effective to do looping by LAMMPS's looping variables than by generating many different atom files!"
   ]
  },
  {
   "cell_type": "markdown",
   "metadata": {},
   "source": [
    "1. Define regions & groups"
   ]
  },
  {
   "cell_type": "code",
   "execution_count": 6,
   "metadata": {},
   "outputs": [
    {
     "data": {
      "text/plain": [
       "array([[-2.734364,  2.734364],\n",
       "       [ 2.734364,  0.      ],\n",
       "       [ 0.      , -2.734364]])"
      ]
     },
     "execution_count": 6,
     "metadata": {},
     "output_type": "execute_result"
    }
   ],
   "source": [
    "my_interface.CNID"
   ]
  },
  {
   "cell_type": "code",
   "execution_count": null,
   "metadata": {},
   "outputs": [],
   "source": [
    "my_interface.define_lammps_regions(['right'],[5.2],[10.5])"
   ]
  },
  {
   "cell_type": "markdown",
   "metadata": {},
   "source": [
    "You can see that here we generated a 'blockfile' file defining a\n",
    "'right' group, which will be displaced during the simulation."
   ]
  },
  {
   "cell_type": "markdown",
   "metadata": {},
   "source": [
    "2. Define translation variables"
   ]
  },
  {
   "cell_type": "markdown",
   "metadata": {},
   "source": [
    "To verify the periodicity of CNID, we translate in a 2x2 expansion of CNID divided into a fine 50x50 grids \n",
    "(dont worry, this won't take a long time :D)"
   ]
  },
  {
   "cell_type": "code",
   "execution_count": 8,
   "metadata": {},
   "outputs": [],
   "source": [
    "v1, v2 = 2*dot(my_interface.orient, my_interface.CNID).T\n",
    "write_trans_file(v1,v2,100,100)"
   ]
  },
  {
   "cell_type": "markdown",
   "metadata": {},
   "source": [
    "Here we generated a 'paras' file, including the looping variables and \n",
    "the translation variables which will be applied in the 'displace_atoms' command.\n",
    "\n",
    "Now, put these two files in the 'CNID_check' folder and run LAMMPS in this folder!"
   ]
  }
 ],
 "metadata": {
  "kernelspec": {
   "display_name": "Python 3",
   "language": "python",
   "name": "python3"
  },
  "language_info": {
   "codemirror_mode": {
    "name": "ipython",
    "version": 3
   },
   "file_extension": ".py",
   "mimetype": "text/x-python",
   "name": "python",
   "nbconvert_exporter": "python",
   "pygments_lexer": "ipython3",
   "version": "3.8.3"
  }
 },
 "nbformat": 4,
 "nbformat_minor": 4
}

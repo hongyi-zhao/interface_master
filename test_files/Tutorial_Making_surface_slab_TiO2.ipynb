{
 "cells": [
  {
   "cell_type": "markdown",
   "metadata": {},
   "source": [
    "# TiO2 surface slab"
   ]
  },
  {
   "cell_type": "code",
   "execution_count": 1,
   "metadata": {},
   "outputs": [],
   "source": [
    "from interfacemaster.interface_generator import get_surface_slab\n",
    "from pymatgen.core.structure import Structure\n",
    "from numpy import ceil"
   ]
  },
  {
   "cell_type": "code",
   "execution_count": 2,
   "metadata": {},
   "outputs": [],
   "source": [
    "unit_structure = Structure.from_file('cif_files/TiO2_mp-2657_conventional_standard.cif', \\\n",
    "                                     primitive=False, sort=False, merge_tol=0.0)"
   ]
  },
  {
   "cell_type": "markdown",
   "metadata": {},
   "source": [
    "## The function below generates a slab with its bc-plane is a specified (hkl) lattice plane\n",
    "### Customerization options:  \n",
    "**replica** --- expand from primitive slab cell, **default: [1,1,1]**  \n",
    "**inclination_tol** --- required minimum cos value of the angle between the basic crossing vector and the surface, **default: gamma angle > 45 degrees**  \n",
    "**termi_shift** --- shift the termination of the surface, **default: 0**  \n",
    "**vacuum_height** --- height of vaccum, **default:  0**  \n",
    "**plane_normal** --- whether requiring the two vectors in the surface plane to be perpendicular, **default: False**  \n",
    "**normal_perp** --- whether requiring the crossing vector to be perpendicular to the plane, **default:  False**  \n",
    "**normal_tol** --- tolerance to judge whether normal/perpendicular, **default: 1e-3**  \n",
    "**lim** --- control the number of generated vectors to search for the crossing vectors and perpendicular vectors, **default: 20**    \n",
    "**filename** --- name of the generated atom files, **default:  'POSCAR'**  \n",
    "**filetype** --- type of the generated atom files (for VASP or LAMMPS), **default: 'VASP'**"
   ]
  },
  {
   "cell_type": "code",
   "execution_count": 3,
   "metadata": {
    "scrolled": true
   },
   "outputs": [
    {
     "name": "stdout",
     "output_type": "stream",
     "text": [
      "cross vector: \n",
      "[[-1]\n",
      " [-1]\n",
      " [ 0]]\n",
      "length: 6.580720371810977\n",
      "plane basis: \n",
      "[[ 0 -1]\n",
      " [ 0  1]\n",
      " [ 1  0]]\n",
      "length: 2.969203 6.580720371810977\n"
     ]
    }
   ],
   "source": [
    "#get primitive slab, using default setting\n",
    "slab_structure = get_surface_slab(unit_structure, hkl = [1,1,0], vacuum_height = 20)"
   ]
  },
  {
   "cell_type": "code",
   "execution_count": 4,
   "metadata": {},
   "outputs": [
    {
     "name": "stdout",
     "output_type": "stream",
     "text": [
      "cross vector: \n",
      "[[-1]\n",
      " [-1]\n",
      " [ 0]]\n",
      "length: 6.580720371810977\n",
      "plane basis: \n",
      "[[ 0 -1]\n",
      " [ 0  1]\n",
      " [ 1  0]]\n",
      "length: 2.969203 6.580720371810977\n"
     ]
    }
   ],
   "source": [
    "#get orthogonal cell\n",
    "slab_structure = get_surface_slab(unit_structure, hkl = [1,1,0], vacuum_height = 20, \\\n",
    "                                  plane_normal = True, normal_perp = True)"
   ]
  },
  {
   "cell_type": "code",
   "execution_count": 5,
   "metadata": {},
   "outputs": [
    {
     "name": "stdout",
     "output_type": "stream",
     "text": [
      "cross vector: \n",
      "[[-1]\n",
      " [-1]\n",
      " [ 0]]\n",
      "length: 6.580720371810977\n",
      "plane basis: \n",
      "[[ 0 -1]\n",
      " [ 0  1]\n",
      " [ 1  0]]\n",
      "length: 2.969203 6.580720371810977\n"
     ]
    }
   ],
   "source": [
    "#expansion to reach a required slab size with length_a > 5, length_b > 10, length_c > 10\n",
    "da, db, dc = ceil(5/6.580720371810977), ceil(10/2.969203), ceil(10/6.580720371810977)\n",
    "slab_structure = get_surface_slab(unit_structure, hkl = [1,1,0], replica = [da, db, dc], vacuum_height = 20)"
   ]
  },
  {
   "cell_type": "markdown",
   "metadata": {},
   "source": [
    "**Try other customerization options :D**"
   ]
  }
 ],
 "metadata": {
  "kernelspec": {
   "display_name": "Python 3",
   "language": "python",
   "name": "python3"
  },
  "language_info": {
   "codemirror_mode": {
    "name": "ipython",
    "version": 3
   },
   "file_extension": ".py",
   "mimetype": "text/x-python",
   "name": "python",
   "nbconvert_exporter": "python",
   "pygments_lexer": "ipython3",
   "version": "3.8.3"
  }
 },
 "nbformat": 4,
 "nbformat_minor": 4
}

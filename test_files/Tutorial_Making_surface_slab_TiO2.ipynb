{
 "cells": [
  {
   "cell_type": "code",
   "execution_count": 1,
   "metadata": {},
   "outputs": [],
   "source": [
    "from interfacemaster.interface_generator import get_surface_slab\n",
    "from pymatgen.core.structure import Structure\n",
    "from numpy import ceil"
   ]
  },
  {
   "cell_type": "code",
   "execution_count": 2,
   "metadata": {},
   "outputs": [],
   "source": [
    "unit_structure = Structure.from_file('cif_files/TiO2_mp-554278_conventional_standard.cif', primitive=False, sort=False, merge_tol=0.0)"
   ]
  },
  {
   "cell_type": "code",
   "execution_count": 3,
   "metadata": {},
   "outputs": [
    {
     "name": "stdout",
     "output_type": "stream",
     "text": [
      "plane basis: \n",
      "[[ 0.  1.]\n",
      " [ 0. -1.]\n",
      " [ 1.  1.]]\n",
      "length: 6.61621224 12.726574587701176\n",
      "cross vector: \n",
      "[0. 1. 0.]\n",
      "length: 3.766936\n"
     ]
    }
   ],
   "source": [
    "#get primitive slab\n",
    "slab_structure = get_surface_slab(unit_structure, hkl = [1,1,0], inclination_tol=0)"
   ]
  },
  {
   "cell_type": "code",
   "execution_count": 6,
   "metadata": {},
   "outputs": [
    {
     "name": "stdout",
     "output_type": "stream",
     "text": [
      "plane basis: \n",
      "[[ 0.  1.]\n",
      " [ 0. -1.]\n",
      " [ 1.  1.]]\n",
      "length: 6.61621224 12.726574587701176\n",
      "cross vector: \n",
      "[0. 1. 0.]\n",
      "length: 3.766936\n"
     ]
    }
   ],
   "source": [
    "#expansion\n",
    "dx, dy, dz = ceil(10/3.766936), ceil(10/6.61621224), ceil(10/12.726574587701176)\n",
    "slab_structure = get_surface_slab(unit_structure, hkl = [1,1,0], inclination_tol=0, replica = [dx, dy, dz],\\\n",
    "                                 vacuum_height = 20, filetype = 'LAMMPS')"
   ]
  }
 ],
 "metadata": {
  "kernelspec": {
   "display_name": "Python 3",
   "language": "python",
   "name": "python3"
  },
  "language_info": {
   "codemirror_mode": {
    "name": "ipython",
    "version": 3
   },
   "file_extension": ".py",
   "mimetype": "text/x-python",
   "name": "python",
   "nbconvert_exporter": "python",
   "pygments_lexer": "ipython3",
   "version": "3.8.3"
  }
 },
 "nbformat": 4,
 "nbformat_minor": 4
}
